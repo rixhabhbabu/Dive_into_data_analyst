{
 "cells": [
  {
   "cell_type": "code",
   "execution_count": 17,
   "id": "148b1e07-770d-4c37-a5d3-e580b3766ba3",
   "metadata": {},
   "outputs": [],
   "source": [
    "#Electric Car Sales Analysis"
   ]
  },
  {
   "cell_type": "raw",
   "id": "c9b369b1-45d1-4485-8bdb-2b85da1fb79c",
   "metadata": {},
   "source": [
    "import os\n",
    "import pandas as pd\n",
    "import numpy as np\n",
    "import matplotlib.pyplot as plt\n"
   ]
  },
  {
   "cell_type": "code",
   "execution_count": 29,
   "id": "033309a6-06e6-4611-a12c-3a8c8c877a61",
   "metadata": {},
   "outputs": [
    {
     "name": "stdout",
     "output_type": "stream",
     "text": [
      "C:\\Users\\rites\\Desktop\\Data anaylyst\\Electric car Sales (2010-2014)\n"
     ]
    }
   ],
   "source": [
    "print(os.getcwd())"
   ]
  },
  {
   "cell_type": "code",
   "execution_count": 30,
   "id": "4ebdb7ba-5abe-44c9-9a46-b15ef19203d0",
   "metadata": {
    "scrolled": true
   },
   "outputs": [
    {
     "name": "stdout",
     "output_type": "stream",
     "text": [
      "      region    category       parameter  mode powertrain  year      unit  \\\n",
      "0  Australia  Historical        EV sales  Cars        BEV  2011  Vehicles   \n",
      "1  Australia  Historical  EV stock share  Cars         EV  2011   percent   \n",
      "2  Australia  Historical  EV sales share  Cars         EV  2011   percent   \n",
      "3  Australia  Historical        EV stock  Cars        BEV  2011  Vehicles   \n",
      "4  Australia  Historical        EV stock  Cars        BEV  2012  Vehicles   \n",
      "\n",
      "       value  \n",
      "0   49.00000  \n",
      "1    0.00039  \n",
      "2    0.00650  \n",
      "3   49.00000  \n",
      "4  220.00000  \n"
     ]
    }
   ],
   "source": [
    "sales = pd.read_csv(\"Ev_car.csv\")\n",
    "print(sales.head())"
   ]
  },
  {
   "cell_type": "code",
   "execution_count": 31,
   "id": "759fe7a6-de47-4a25-aa93-dbe91b4d69e4",
   "metadata": {},
   "outputs": [
    {
     "name": "stdout",
     "output_type": "stream",
     "text": [
      "region        0\n",
      "category      0\n",
      "parameter     0\n",
      "mode          0\n",
      "powertrain    0\n",
      "year          0\n",
      "unit          0\n",
      "value         0\n",
      "dtype: int64\n"
     ]
    }
   ],
   "source": [
    "print(sales.isnull().sum())"
   ]
  },
  {
   "cell_type": "code",
   "execution_count": 39,
   "id": "34aca288-5eea-4266-a540-a33646975802",
   "metadata": {},
   "outputs": [],
   "source": [
    "y1 = np.array([sales['year']])\n",
    "x1 = np.array([sales['region']])\n",
    "x = x1.ravel()\n",
    "y = y1.ravel()"
   ]
  },
  {
   "cell_type": "code",
   "execution_count": 40,
   "id": "05c5b7a8-762f-4217-8ea5-58afef3b3c6a",
   "metadata": {},
   "outputs": [
    {
     "name": "stdout",
     "output_type": "stream",
     "text": [
      "(3798,)\n",
      "(3798,)\n"
     ]
    }
   ],
   "source": [
    "print(x.shape)\n",
    "print(y.shape)"
   ]
  },
  {
   "cell_type": "code",
   "execution_count": 41,
   "id": "29e28c84-05d0-4e55-9940-b8e9e98b0766",
   "metadata": {},
   "outputs": [
    {
     "data": {
      "image/png": "[encoded data removed]",
      "text/plain": [
       "<Figure size 640x480 with 1 Axes>"
      ]
     },
     "metadata": {},
     "output_type": "display_data"
    }
   ],
   "source": [
    "plt.bar(x,y)\n",
    "plt.show()"
   ]
  },
  {
   "cell_type": "code",
   "execution_count": null,
   "id": "05b3ed11-7fd9-4047-9d5e-f2754f612433",
   "metadata": {},
   "outputs": [],
   "source": []
  }
 ],
 "metadata": {
  "kernelspec": {
   "display_name": "Python 3 (ipykernel)",
   "language": "python",
   "name": "python3"
  },
  "language_info": {
   "codemirror_mode": {
    "name": "ipython",
    "version": 3
   },
   "file_extension": ".py",
   "mimetype": "text/x-python",
   "name": "python",
   "nbconvert_exporter": "python",
   "pygments_lexer": "ipython3",
   "version": "3.13.3"
  }
 },
 "nbformat": 4,
 "nbformat_minor": 5
}
